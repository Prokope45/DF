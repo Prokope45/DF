{
 "cells": [
  {
   "cell_type": "code",
   "execution_count": 16,
   "id": "271d5393",
   "metadata": {},
   "outputs": [],
   "source": [
    "import pandas as pd\n",
    "\n",
    "leases_df = pd.read_csv(\"../data/Leases.csv\")\n"
   ]
  },
  {
   "cell_type": "markdown",
   "id": "86bfdbda",
   "metadata": {},
   "source": [
    "# Removal Step"
   ]
  },
  {
   "cell_type": "code",
   "execution_count": null,
   "id": "13118642",
   "metadata": {},
   "outputs": [
    {
     "data": {
      "text/plain": [
       "23595"
      ]
     },
     "execution_count": 18,
     "metadata": {},
     "output_type": "execute_result"
    }
   ],
   "source": [
    "# Drop na rows for company name\n",
    "# leases_df = pd.DataFrame(leases_df, columns=[\"company_name\"]).dropna()\n",
    "\n",
    "# Omit rows with na company_name\n",
    "leases_df = leases_df[leases_df[\"company_name\"].notna()]\n",
    "\n",
    "# Remove columns with all na entries\n",
    "remove_features = [\n",
    "    \"direct_available_space\",\n",
    "    \"direct_availability_proportion\",\n",
    "    \"direct_internal_class_rent\",\n",
    "    \"direct_overall_rent\",\n",
    "    \"sublet_available_space\",\n",
    "    \"sublet_availability_proportion\",\n",
    "    \"sublet_internal_class_rent\",\n",
    "    \"sublet_overall_rent\"\n",
    "]\n",
    "for feature in remove_features:\n",
    "    leases_df = leases_df[leases_df[feature].notna()]"
   ]
  },
  {
   "cell_type": "markdown",
   "id": "cc2712f6",
   "metadata": {},
   "source": [
    "# Imputation Step\n",
    "Impute numerical values in dataset with median\n",
    "https://scikit-learn.org/stable/modules/impute.html\n",
    "https://pandas.pydata.org/docs/reference/api/pandas.get_dummies.html"
   ]
  },
  {
   "cell_type": "code",
   "execution_count": null,
   "id": "48b4656d",
   "metadata": {},
   "outputs": [],
   "source": [
    "# Categorical/String\n",
    "# company_name\tinternal_industry internal_market_cluster\n",
    "\n",
    "# Numerical\n",
    "# RBA\tavailable_space\tavailability_proportion\tinternal_class_rent\toverall_rent\n"
   ]
  },
  {
   "cell_type": "markdown",
   "id": "5a2651ae",
   "metadata": {},
   "source": [
    "# Export Cleaned Data"
   ]
  },
  {
   "cell_type": "code",
   "execution_count": 21,
   "id": "699e9635",
   "metadata": {},
   "outputs": [],
   "source": [
    "leases_df.to_csv(\"../data/cleaned_leases.csv\", index=False)"
   ]
  }
 ],
 "metadata": {
  "kernelspec": {
   "display_name": "venv",
   "language": "python",
   "name": "python3"
  },
  "language_info": {
   "codemirror_mode": {
    "name": "ipython",
    "version": 3
   },
   "file_extension": ".py",
   "mimetype": "text/x-python",
   "name": "python",
   "nbconvert_exporter": "python",
   "pygments_lexer": "ipython3",
   "version": "3.12.6"
  }
 },
 "nbformat": 4,
 "nbformat_minor": 5
}
