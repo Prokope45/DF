{
 "cells": [
  {
   "cell_type": "markdown",
   "id": "86bfdbda",
   "metadata": {},
   "source": [
    "# Removal Step"
   ]
  },
  {
   "cell_type": "code",
   "execution_count": 13,
   "id": "13118642",
   "metadata": {},
   "outputs": [],
   "source": [
    "import pandas as pd\n",
    "\n",
    "leases_df = pd.read_csv(\"../data/Leases.csv\")\n",
    "orig_leases_df = pd.read_csv(\"../data/Leases.csv\")\n",
    "\n",
    "# Drop na rows for company name\n",
    "# leases_df = pd.DataFrame(leases_df, columns=[\"company_name\"]).dropna()\n",
    "\n",
    "# Omit rows with na company_name\n",
    "# leases_df = leases_df[leases_df[\"company_name\"].notna()]\n",
    "\n",
    "# Remove columns with all na entries\n",
    "remove_features = [\n",
    "    \"direct_availability_proportion\",\n",
    "    \"direct_internal_class_rent\",\n",
    "    \"direct_overall_rent\",\n",
    "    \"sublet_available_space\",\n",
    "    \"sublet_availability_proportion\",\n",
    "    \"sublet_internal_class_rent\",\n",
    "    \"sublet_overall_rent\",\n",
    "    \"company_name\",\n",
    "    \"internal_industry\",\n",
    "    \"quarter\",\n",
    "    \"transaction_type\",\n",
    "    \"market\"\n",
    "]\n",
    "for feature in remove_features:\n",
    "    leases_df = leases_df[leases_df[feature].notna()]\n",
    "\n",
    "\n",
    "leases_by_rba = leases_df[\"RBA\"]\n",
    "leases_by_rba.head()\n",
    "\n",
    "leases_by_rba.to_csv(\"../data/leases_by_rba.csv\")\n",
    "\n",
    "# Drop RBA and space_type\n",
    "leases_df = leases_df.drop(columns=[\n",
    "    \"RBA\", \"space_type\", \"leasing\", \"monthsigned\", \"building_name\", \"building_id\", \"region\", \"city\"\n",
    "], axis=1)\n",
    "\n",
    "leases_df.to_csv(\"../data/cleaned_leases.csv\", index=False)"
   ]
  },
  {
   "cell_type": "code",
   "execution_count": 14,
   "id": "b52b8720",
   "metadata": {},
   "outputs": [],
   "source": [
    "# Get Q3 rows\n",
    "# leases_df = leases_df[leases_df[\"quarter\"] == \"Q3\"]\n",
    "\n",
    "# Get only construction industries\n",
    "# leases_df = leases_df[leases_df[\"internal_industry\"].str.contains(\"Construction\", na=False)]\n",
    "\n",
    "# Get Texas only\n",
    "# leases_df = leases_df[leases_df[\"state\"] == 'TX']\n",
    "\n",
    "# Indicator variables for market\n",
    "market_variables = leases_df[\"market\"].unique()\n",
    "for var in market_variables:\n",
    "    leases_df[var] = (leases_df[\"market\"] == var).astype(int)\n",
    "\n",
    "# Indicator variables fro construction industry\n",
    "leases_df[\"is_construction\"] = leases_df[\"internal_industry\"].str.contains(\"Construction\").astype(int)\n",
    "leases_df.to_csv(\"../data/cleaned_leases.csv\", index=False)"
   ]
  },
  {
   "cell_type": "code",
   "execution_count": 17,
   "id": "16114290",
   "metadata": {},
   "outputs": [
    {
     "name": "stdout",
     "output_type": "stream",
     "text": [
      "Mean Squared Error: 0.05919095580678314\n",
      "\n",
      "Feature Importance:\n",
      "                           Feature  Importance\n",
      "2                         leasedSF    0.262631\n",
      "3                         costarID    0.221372\n",
      "1                              zip    0.149757\n",
      "14      sublet_internal_class_rent    0.035307\n",
      "5          availability_proportion    0.033218\n",
      "15             sublet_overall_rent    0.033031\n",
      "13  sublet_availability_proportion    0.030878\n",
      "10      direct_internal_class_rent    0.029693\n",
      "9   direct_availability_proportion    0.029396\n",
      "12          sublet_available_space    0.029285\n",
      "6              internal_class_rent    0.027226\n",
      "8           direct_available_space    0.026782\n",
      "11             direct_overall_rent    0.023836\n",
      "4                  available_space    0.022331\n",
      "7                     overall_rent    0.022251\n",
      "0                             year    0.011271\n",
      "23                         Houston    0.001888\n",
      "32                       San Diego    0.001234\n",
      "16                         Atlanta    0.001198\n",
      "29                    Philadelphia    0.001064\n",
      "35                   South Florida    0.000755\n",
      "20                       Charlotte    0.000718\n",
      "30                         Phoenix    0.000675\n",
      "27             Northern New Jersey    0.000592\n",
      "36                           Tampa    0.000590\n",
      "28               Northern Virginia    0.000582\n",
      "18                       Baltimore    0.000503\n",
      "26                       Nashville    0.000356\n",
      "24                     Los Angeles    0.000317\n",
      "34                         Seattle    0.000270\n",
      "21                 Chicago Suburbs    0.000239\n",
      "31                  Salt Lake City    0.000194\n",
      "17                          Austin    0.000192\n",
      "19                          Boston    0.000128\n",
      "25                       Manhattan    0.000104\n",
      "22                         Detroit    0.000091\n",
      "33                   San Francisco    0.000047\n"
     ]
    }
   ],
   "source": [
    "import pandas as pd\n",
    "from sklearn.model_selection import train_test_split\n",
    "from sklearn.ensemble import RandomForestRegressor\n",
    "from sklearn.metrics import mean_squared_error\n",
    "\n",
    "# Load the dataset\n",
    "leases_df = pd.read_csv(\"../data/cleaned_leases.csv\")\n",
    "\n",
    "# Select features and target variable\n",
    "features = leases_df.select_dtypes(include=['number']).columns.tolist()\n",
    "# Remove target if it is in the features\n",
    "TARGET = \"is_construction\"\n",
    "if TARGET in features:\n",
    "    features.remove(TARGET)\n",
    "target = leases_df[TARGET]\n",
    "\n",
    "# Split data into training and testing sets\n",
    "X_train, X_test, y_train, y_test = train_test_split(leases_df[features], target, test_size=0.2, random_state=42)\n",
    "\n",
    "# Create a Random Forest Regressor model\n",
    "rf_model = RandomForestRegressor(n_estimators=100, random_state=42)\n",
    "\n",
    "# Fit the model to the training data\n",
    "rf_model.fit(X_train, y_train)\n",
    "\n",
    "# Make predictions on the test data\n",
    "y_pred = rf_model.predict(X_test)\n",
    "\n",
    "# Evaluate the model\n",
    "mse = mean_squared_error(y_test, y_pred)\n",
    "print(f\"Mean Squared Error: {mse}\")\n",
    "\n",
    "# Feature Importance\n",
    "feature_importances = rf_model.feature_importances_\n",
    "feature_importance_df = pd.DataFrame({'Feature': features, 'Importance': feature_importances})\n",
    "feature_importance_df = feature_importance_df.sort_values('Importance', ascending=False)\n",
    "print(\"\\nFeature Importance:\")\n",
    "print(feature_importance_df)"
   ]
  },
  {
   "cell_type": "markdown",
   "id": "5846e011",
   "metadata": {},
   "source": [
    "# View Data"
   ]
  },
  {
   "cell_type": "code",
   "execution_count": 145,
   "id": "10f9d421",
   "metadata": {},
   "outputs": [],
   "source": [
    "from IPython.display import display, HTML\n",
    "\n",
    "# Convert DataFrame to HTML and display\n",
    "# display(HTML(leases_df.to_html()))"
   ]
  },
  {
   "cell_type": "code",
   "execution_count": null,
   "id": "9b61c470",
   "metadata": {},
   "outputs": [
    {
     "data": {
      "application/vnd.plotly.v1+json": {
       "config": {
        "plotlyServerURL": "https://plot.ly"
       },
       "data": [
        {
         "geo": "geo",
         "hovertemplate": "address=%{text}<br>state=%{location}<br>zip=%{marker.color}<extra></extra>",
         "legendgroup": "",
         "locationmode": "USA-states",
         "locations": [
          "TX",
          "TX",
          "TX",
          "TX",
          "TX",
          "TX",
          "TX",
          "TX",
          "TX",
          "TX",
          "TX",
          "TX",
          "TX",
          "TX",
          "TX",
          "TX",
          "TX",
          "TX",
          "TX",
          "TX",
          "TX",
          "TX",
          "TX",
          "TX",
          "TX",
          "TX",
          "TX",
          "TX",
          "TX",
          "TX",
          "TX",
          "TX",
          "TX",
          "TX",
          "TX",
          "TX",
          "TX",
          "TX",
          "TX",
          "TX",
          "TX",
          "TX",
          "TX",
          "TX",
          "TX",
          "TX",
          "TX",
          "TX",
          "TX",
          "TX",
          "TX",
          "TX",
          "TX",
          "TX",
          "TX",
          "TX",
          "TX",
          "TX",
          "TX",
          "TX",
          "TX",
          "TX",
          "TX",
          "TX",
          "TX",
          "TX",
          "TX",
          "TX",
          "TX",
          "TX",
          "TX",
          "TX",
          "TX",
          "TX",
          "TX",
          "TX",
          "TX",
          "TX",
          "TX",
          "TX",
          "TX",
          "TX",
          "TX",
          "TX",
          "TX",
          "TX",
          "TX",
          "TX",
          "TX",
          "TX",
          "TX",
          "TX",
          "TX",
          "TX",
          "TX",
          "TX",
          "TX",
          "TX",
          "TX",
          "TX",
          "TX",
          "TX",
          "TX",
          "TX",
          "TX",
          "TX",
          "TX",
          "TX",
          "TX",
          "TX",
          "TX",
          "TX"
         ],
         "marker": {
          "color": {
           "bdata": "AAAAAJDR8kAAAAAAAM/yQAAAAAAgz/JAAAAAAGDS8kAAAAAAIM3yQAAAAACgOPNAAAAAACDQ8kAAAAAAUNHyQAAAAAAQz/JAAAAAAJA480AAAAAAkDjzQAAAAABw0fJAAAAAAKDO8kAAAAAAcDrzQAAAAAAAzvJAAAAAAJA180AAAAAA8MzyQAAAAAAg0PJAAAAAAKDM8kAAAAAAIM/yQAAAAABgz/JAAAAAACDP8kAAAAAAIM/yQAAAAABw0fJAAAAAACDP8kAAAAAA8MzyQAAAAABw0fJAAAAAAADQ8kAAAAAAAM3yQAAAAADA0fJAAAAAAKDS8kAAAAAAcNHyQAAAAACAOfNAAAAAAHDR8kAAAAAAYNLyQAAAAABwOPNAAAAAAKA580AAAAAAQOTyQAAAAABw0fJAAAAAAADQ8kAAAAAAoNLyQAAAAADAzfJAAAAAAHDR8kAAAAAAANDyQAAAAAAwzvJAAAAAAFDR8kAAAAAAIM/yQAAAAAAgz/JAAAAAACDP8kAAAAAAcNHyQAAAAABg6vJAAAAAAGDP8kAAAAAAIM/yQAAAAADwOPNAAAAAAKDM8kAAAAAAkOjyQAAAAAAA0PJAAAAAAHDR8kAAAAAA4NDyQAAAAABw0fJAAAAAAADQ8kAAAAAAIM/yQAAAAACgzPJAAAAAAJA480AAAAAAIM/yQAAAAACgOPNAAAAAAHDR8kAAAAAAMM7yQAAAAAAgz/JAAAAAAHA680AAAAAA8DjzQAAAAACQ0fJAAAAAABDP8kAAAAAAwNHyQAAAAADg0PJAAAAAAFDR8kAAAAAAYOvyQAAAAACA0PJAAAAAAGDP8kAAAAAAcNHyQAAAAACA5PJAAAAAAJDo8kAAAAAAAM/yQAAAAAAA0PJAAAAAAFDk8kAAAAAAIM/yQAAAAAAwzvJAAAAAAEDk8kAAAAAAQOTyQAAAAAAg0PJAAAAAACDQ8kAAAAAAkOjyQAAAAADAzvJAAAAAAHA680AAAAAAANDyQAAAAADQNvNAAAAAAHDR8kAAAAAAINDyQAAAAAAAzvJAAAAAACDP8kAAAAAAIM/yQAAAAACgzvJAAAAAAADQ8kAAAAAAwNHyQAAAAABwOvNAAAAAAJDo8kAAAAAAIM/yQAAAAABQ0fJAAAAAAPA480AAAAAA4NDyQAAAAABw0fJAAAAAAGDS8kA=",
           "dtype": "f8"
          },
          "coloraxis": "coloraxis",
          "symbol": "circle"
         },
         "mode": "markers+text",
         "name": "",
         "showlegend": false,
         "text": [
          "4848 Loop Central Dr",
          "13430 Northwest Fwy",
          "3010 Briarpark Dr",
          "17000 Katy Fwy",
          "909 Fannin St",
          "6500 River Place Blvd",
          "2100 Space Park Dr",
          "11490 Westheimer Rd",
          "11330 Clay Rd",
          "13620 Briarwick Dr",
          "13640 Briarwick Dr",
          "15995 N Barkers Landing Rd",
          "12000 Aerospace Ave",
          "10814 Jollyville Rd",
          "920 Memorial City Way",
          "2700 La Frontera Blvd",
          "100 Waugh Dr",
          "18050 Saturn Ln",
          "1001 McKinney St",
          "2103 CityWest Blvd",
          "20 Greenway Plz",
          "2103 CityWest Blvd",
          "3200 Wilcrest Dr",
          "11750 Katy Fwy",
          "2925 Briarpark Dr",
          "5225 Katy Fwy",
          "777 N Eldridge Pky",
          "5151 San Felipe St",
          "1235 North Loop W",
          "15721 Park Row",
          "3120 Southwest Fwy",
          "585 N Dairy Ashford Rd",
          "6800 Burleson Rd",
          "737 N Eldridge Pky",
          "15415 Katy Fwy",
          "12357-C Riata Trace Pky",
          "6836 Bee Caves Rd",
          "480 Wildwood Forest Dr",
          "12140 Wickchester Ln",
          "5065-5075 Westheimer Rd",
          "3701 Kirby Dr",
          "2940 Riverby Rd",
          "11767 Katy Fwy",
          "4900 Woodway Dr",
          "1700 West Loop S",
          "11490 Westheimer Rd",
          "2050 W Sam Houston Pky S",
          "3600 W Sam Houston Pky S",
          "3250 Briarpark Dr",
          "585 N Dairy Ashford Rd",
          "3 Sugar Creek Center Blvd",
          "11 Greenway Plz",
          "10011 Meadowglen Ln",
          "5113 Southwest Pky",
          "801 Louisiana St",
          "2002 W Grand Pky N",
          "5151 San Felipe St",
          "12140 Wickchester Ln",
          "19450 State Highway 249",
          "13501 Katy Fwy",
          "5151 San Felipe St",
          "10000 Richmond Ave",
          "1001 McKinney St",
          "13620 Briarwick Dr",
          "2105 CityWest Blvd",
          "6200 Bridgepoint Pky",
          "11700 Katy Fwy",
          "3200 Southwest Fwy",
          "3600 W Sam Houston Pky S",
          "9020 N Capital of Texas Hwy",
          "5707 Southwest Pky",
          "4828 Loop Central Dr",
          "4424 W Sam Houston Pky N",
          "1311 Broadfield Blvd",
          "19450 State Highway 249",
          "1080 Eldridge Pkwy",
          "24275 Katy Fwy",
          "10344 Sam Houston Park Dr",
          "2 Greenway Plz",
          "580 Westlake Park Blvd",
          "128 Vision Park Blvd",
          "2002 W Grand Pky N",
          "5300 Hollister Rd",
          "3009 Post Oak Blvd",
          "3831 Technology Forest Blvd",
          "2103 CityWest Blvd",
          "2200 West Loop South",
          "1400 Woodloch Forest Dr",
          "1400 Woodloch Forest Dr",
          "3700 Bay Area Blvd",
          "3700 Bay Area Blvd",
          "1904 Grand Parkway W",
          "7211 Regency Square Blvd",
          "10431 Morado Cir",
          "5555 San Felipe St",
          "200 W 6th St",
          "11700 Katy Fwy",
          "600 Gemini St",
          "800 Gessner Rd",
          "10333 Richmond Ave",
          "2103 CityWest Blvd",
          "12301 Kurland Dr",
          "1800 St James Pl",
          "17325 Park Row Rd",
          "9600 N MoPac Expy",
          "1904 Grand Parkway W",
          "3700 W Sam Houston Pky S",
          "1200 Enclave Pky",
          "5316 Hwy 290 W",
          "19450 State Highway 249",
          "11720 Katy Fwy",
          "17320 Katy Fwy"
         ],
         "type": "scattergeo"
        }
       ],
       "layout": {
        "coloraxis": {
         "colorbar": {
          "title": {
           "text": "zip"
          }
         },
         "colorscale": [
          [
           0,
           "#0d0887"
          ],
          [
           0.1111111111111111,
           "#46039f"
          ],
          [
           0.2222222222222222,
           "#7201a8"
          ],
          [
           0.3333333333333333,
           "#9c179e"
          ],
          [
           0.4444444444444444,
           "#bd3786"
          ],
          [
           0.5555555555555556,
           "#d8576b"
          ],
          [
           0.6666666666666666,
           "#ed7953"
          ],
          [
           0.7777777777777778,
           "#fb9f3a"
          ],
          [
           0.8888888888888888,
           "#fdca26"
          ],
          [
           1,
           "#f0f921"
          ]
         ]
        },
        "geo": {
         "center": {},
         "domain": {
          "x": [
           0,
           1
          ],
          "y": [
           0,
           1
          ]
         },
         "fitbounds": "locations",
         "scope": "usa",
         "visible": false
        },
        "legend": {
         "tracegroupgap": 0
        },
        "template": {
         "data": {
          "bar": [
           {
            "error_x": {
             "color": "#2a3f5f"
            },
            "error_y": {
             "color": "#2a3f5f"
            },
            "marker": {
             "line": {
              "color": "#E5ECF6",
              "width": 0.5
             },
             "pattern": {
              "fillmode": "overlay",
              "size": 10,
              "solidity": 0.2
             }
            },
            "type": "bar"
           }
          ],
          "barpolar": [
           {
            "marker": {
             "line": {
              "color": "#E5ECF6",
              "width": 0.5
             },
             "pattern": {
              "fillmode": "overlay",
              "size": 10,
              "solidity": 0.2
             }
            },
            "type": "barpolar"
           }
          ],
          "carpet": [
           {
            "aaxis": {
             "endlinecolor": "#2a3f5f",
             "gridcolor": "white",
             "linecolor": "white",
             "minorgridcolor": "white",
             "startlinecolor": "#2a3f5f"
            },
            "baxis": {
             "endlinecolor": "#2a3f5f",
             "gridcolor": "white",
             "linecolor": "white",
             "minorgridcolor": "white",
             "startlinecolor": "#2a3f5f"
            },
            "type": "carpet"
           }
          ],
          "choropleth": [
           {
            "colorbar": {
             "outlinewidth": 0,
             "ticks": ""
            },
            "type": "choropleth"
           }
          ],
          "contour": [
           {
            "colorbar": {
             "outlinewidth": 0,
             "ticks": ""
            },
            "colorscale": [
             [
              0,
              "#0d0887"
             ],
             [
              0.1111111111111111,
              "#46039f"
             ],
             [
              0.2222222222222222,
              "#7201a8"
             ],
             [
              0.3333333333333333,
              "#9c179e"
             ],
             [
              0.4444444444444444,
              "#bd3786"
             ],
             [
              0.5555555555555556,
              "#d8576b"
             ],
             [
              0.6666666666666666,
              "#ed7953"
             ],
             [
              0.7777777777777778,
              "#fb9f3a"
             ],
             [
              0.8888888888888888,
              "#fdca26"
             ],
             [
              1,
              "#f0f921"
             ]
            ],
            "type": "contour"
           }
          ],
          "contourcarpet": [
           {
            "colorbar": {
             "outlinewidth": 0,
             "ticks": ""
            },
            "type": "contourcarpet"
           }
          ],
          "heatmap": [
           {
            "colorbar": {
             "outlinewidth": 0,
             "ticks": ""
            },
            "colorscale": [
             [
              0,
              "#0d0887"
             ],
             [
              0.1111111111111111,
              "#46039f"
             ],
             [
              0.2222222222222222,
              "#7201a8"
             ],
             [
              0.3333333333333333,
              "#9c179e"
             ],
             [
              0.4444444444444444,
              "#bd3786"
             ],
             [
              0.5555555555555556,
              "#d8576b"
             ],
             [
              0.6666666666666666,
              "#ed7953"
             ],
             [
              0.7777777777777778,
              "#fb9f3a"
             ],
             [
              0.8888888888888888,
              "#fdca26"
             ],
             [
              1,
              "#f0f921"
             ]
            ],
            "type": "heatmap"
           }
          ],
          "histogram": [
           {
            "marker": {
             "pattern": {
              "fillmode": "overlay",
              "size": 10,
              "solidity": 0.2
             }
            },
            "type": "histogram"
           }
          ],
          "histogram2d": [
           {
            "colorbar": {
             "outlinewidth": 0,
             "ticks": ""
            },
            "colorscale": [
             [
              0,
              "#0d0887"
             ],
             [
              0.1111111111111111,
              "#46039f"
             ],
             [
              0.2222222222222222,
              "#7201a8"
             ],
             [
              0.3333333333333333,
              "#9c179e"
             ],
             [
              0.4444444444444444,
              "#bd3786"
             ],
             [
              0.5555555555555556,
              "#d8576b"
             ],
             [
              0.6666666666666666,
              "#ed7953"
             ],
             [
              0.7777777777777778,
              "#fb9f3a"
             ],
             [
              0.8888888888888888,
              "#fdca26"
             ],
             [
              1,
              "#f0f921"
             ]
            ],
            "type": "histogram2d"
           }
          ],
          "histogram2dcontour": [
           {
            "colorbar": {
             "outlinewidth": 0,
             "ticks": ""
            },
            "colorscale": [
             [
              0,
              "#0d0887"
             ],
             [
              0.1111111111111111,
              "#46039f"
             ],
             [
              0.2222222222222222,
              "#7201a8"
             ],
             [
              0.3333333333333333,
              "#9c179e"
             ],
             [
              0.4444444444444444,
              "#bd3786"
             ],
             [
              0.5555555555555556,
              "#d8576b"
             ],
             [
              0.6666666666666666,
              "#ed7953"
             ],
             [
              0.7777777777777778,
              "#fb9f3a"
             ],
             [
              0.8888888888888888,
              "#fdca26"
             ],
             [
              1,
              "#f0f921"
             ]
            ],
            "type": "histogram2dcontour"
           }
          ],
          "mesh3d": [
           {
            "colorbar": {
             "outlinewidth": 0,
             "ticks": ""
            },
            "type": "mesh3d"
           }
          ],
          "parcoords": [
           {
            "line": {
             "colorbar": {
              "outlinewidth": 0,
              "ticks": ""
             }
            },
            "type": "parcoords"
           }
          ],
          "pie": [
           {
            "automargin": true,
            "type": "pie"
           }
          ],
          "scatter": [
           {
            "fillpattern": {
             "fillmode": "overlay",
             "size": 10,
             "solidity": 0.2
            },
            "type": "scatter"
           }
          ],
          "scatter3d": [
           {
            "line": {
             "colorbar": {
              "outlinewidth": 0,
              "ticks": ""
             }
            },
            "marker": {
             "colorbar": {
              "outlinewidth": 0,
              "ticks": ""
             }
            },
            "type": "scatter3d"
           }
          ],
          "scattercarpet": [
           {
            "marker": {
             "colorbar": {
              "outlinewidth": 0,
              "ticks": ""
             }
            },
            "type": "scattercarpet"
           }
          ],
          "scattergeo": [
           {
            "marker": {
             "colorbar": {
              "outlinewidth": 0,
              "ticks": ""
             }
            },
            "type": "scattergeo"
           }
          ],
          "scattergl": [
           {
            "marker": {
             "colorbar": {
              "outlinewidth": 0,
              "ticks": ""
             }
            },
            "type": "scattergl"
           }
          ],
          "scattermap": [
           {
            "marker": {
             "colorbar": {
              "outlinewidth": 0,
              "ticks": ""
             }
            },
            "type": "scattermap"
           }
          ],
          "scattermapbox": [
           {
            "marker": {
             "colorbar": {
              "outlinewidth": 0,
              "ticks": ""
             }
            },
            "type": "scattermapbox"
           }
          ],
          "scatterpolar": [
           {
            "marker": {
             "colorbar": {
              "outlinewidth": 0,
              "ticks": ""
             }
            },
            "type": "scatterpolar"
           }
          ],
          "scatterpolargl": [
           {
            "marker": {
             "colorbar": {
              "outlinewidth": 0,
              "ticks": ""
             }
            },
            "type": "scatterpolargl"
           }
          ],
          "scatterternary": [
           {
            "marker": {
             "colorbar": {
              "outlinewidth": 0,
              "ticks": ""
             }
            },
            "type": "scatterternary"
           }
          ],
          "surface": [
           {
            "colorbar": {
             "outlinewidth": 0,
             "ticks": ""
            },
            "colorscale": [
             [
              0,
              "#0d0887"
             ],
             [
              0.1111111111111111,
              "#46039f"
             ],
             [
              0.2222222222222222,
              "#7201a8"
             ],
             [
              0.3333333333333333,
              "#9c179e"
             ],
             [
              0.4444444444444444,
              "#bd3786"
             ],
             [
              0.5555555555555556,
              "#d8576b"
             ],
             [
              0.6666666666666666,
              "#ed7953"
             ],
             [
              0.7777777777777778,
              "#fb9f3a"
             ],
             [
              0.8888888888888888,
              "#fdca26"
             ],
             [
              1,
              "#f0f921"
             ]
            ],
            "type": "surface"
           }
          ],
          "table": [
           {
            "cells": {
             "fill": {
              "color": "#EBF0F8"
             },
             "line": {
              "color": "white"
             }
            },
            "header": {
             "fill": {
              "color": "#C8D4E3"
             },
             "line": {
              "color": "white"
             }
            },
            "type": "table"
           }
          ]
         },
         "layout": {
          "annotationdefaults": {
           "arrowcolor": "#2a3f5f",
           "arrowhead": 0,
           "arrowwidth": 1
          },
          "autotypenumbers": "strict",
          "coloraxis": {
           "colorbar": {
            "outlinewidth": 0,
            "ticks": ""
           }
          },
          "colorscale": {
           "diverging": [
            [
             0,
             "#8e0152"
            ],
            [
             0.1,
             "#c51b7d"
            ],
            [
             0.2,
             "#de77ae"
            ],
            [
             0.3,
             "#f1b6da"
            ],
            [
             0.4,
             "#fde0ef"
            ],
            [
             0.5,
             "#f7f7f7"
            ],
            [
             0.6,
             "#e6f5d0"
            ],
            [
             0.7,
             "#b8e186"
            ],
            [
             0.8,
             "#7fbc41"
            ],
            [
             0.9,
             "#4d9221"
            ],
            [
             1,
             "#276419"
            ]
           ],
           "sequential": [
            [
             0,
             "#0d0887"
            ],
            [
             0.1111111111111111,
             "#46039f"
            ],
            [
             0.2222222222222222,
             "#7201a8"
            ],
            [
             0.3333333333333333,
             "#9c179e"
            ],
            [
             0.4444444444444444,
             "#bd3786"
            ],
            [
             0.5555555555555556,
             "#d8576b"
            ],
            [
             0.6666666666666666,
             "#ed7953"
            ],
            [
             0.7777777777777778,
             "#fb9f3a"
            ],
            [
             0.8888888888888888,
             "#fdca26"
            ],
            [
             1,
             "#f0f921"
            ]
           ],
           "sequentialminus": [
            [
             0,
             "#0d0887"
            ],
            [
             0.1111111111111111,
             "#46039f"
            ],
            [
             0.2222222222222222,
             "#7201a8"
            ],
            [
             0.3333333333333333,
             "#9c179e"
            ],
            [
             0.4444444444444444,
             "#bd3786"
            ],
            [
             0.5555555555555556,
             "#d8576b"
            ],
            [
             0.6666666666666666,
             "#ed7953"
            ],
            [
             0.7777777777777778,
             "#fb9f3a"
            ],
            [
             0.8888888888888888,
             "#fdca26"
            ],
            [
             1,
             "#f0f921"
            ]
           ]
          },
          "colorway": [
           "#636efa",
           "#EF553B",
           "#00cc96",
           "#ab63fa",
           "#FFA15A",
           "#19d3f3",
           "#FF6692",
           "#B6E880",
           "#FF97FF",
           "#FECB52"
          ],
          "font": {
           "color": "#2a3f5f"
          },
          "geo": {
           "bgcolor": "white",
           "lakecolor": "white",
           "landcolor": "#E5ECF6",
           "showlakes": true,
           "showland": true,
           "subunitcolor": "white"
          },
          "hoverlabel": {
           "align": "left"
          },
          "hovermode": "closest",
          "mapbox": {
           "style": "light"
          },
          "paper_bgcolor": "white",
          "plot_bgcolor": "#E5ECF6",
          "polar": {
           "angularaxis": {
            "gridcolor": "white",
            "linecolor": "white",
            "ticks": ""
           },
           "bgcolor": "#E5ECF6",
           "radialaxis": {
            "gridcolor": "white",
            "linecolor": "white",
            "ticks": ""
           }
          },
          "scene": {
           "xaxis": {
            "backgroundcolor": "#E5ECF6",
            "gridcolor": "white",
            "gridwidth": 2,
            "linecolor": "white",
            "showbackground": true,
            "ticks": "",
            "zerolinecolor": "white"
           },
           "yaxis": {
            "backgroundcolor": "#E5ECF6",
            "gridcolor": "white",
            "gridwidth": 2,
            "linecolor": "white",
            "showbackground": true,
            "ticks": "",
            "zerolinecolor": "white"
           },
           "zaxis": {
            "backgroundcolor": "#E5ECF6",
            "gridcolor": "white",
            "gridwidth": 2,
            "linecolor": "white",
            "showbackground": true,
            "ticks": "",
            "zerolinecolor": "white"
           }
          },
          "shapedefaults": {
           "line": {
            "color": "#2a3f5f"
           }
          },
          "ternary": {
           "aaxis": {
            "gridcolor": "white",
            "linecolor": "white",
            "ticks": ""
           },
           "baxis": {
            "gridcolor": "white",
            "linecolor": "white",
            "ticks": ""
           },
           "bgcolor": "#E5ECF6",
           "caxis": {
            "gridcolor": "white",
            "linecolor": "white",
            "ticks": ""
           }
          },
          "title": {
           "x": 0.05
          },
          "xaxis": {
           "automargin": true,
           "gridcolor": "white",
           "linecolor": "white",
           "ticks": "",
           "title": {
            "standoff": 15
           },
           "zerolinecolor": "white",
           "zerolinewidth": 2
          },
          "yaxis": {
           "automargin": true,
           "gridcolor": "white",
           "linecolor": "white",
           "ticks": "",
           "title": {
            "standoff": 15
           },
           "zerolinecolor": "white",
           "zerolinewidth": 2
          }
         }
        },
        "title": {
         "text": "Construction Company Addresses in Texas"
        }
       }
      }
     },
     "metadata": {},
     "output_type": "display_data"
    }
   ],
   "source": [
    "import pandas as pd\n",
    "import plotly.express as px\n",
    "\n",
    "# Load the dataset\n",
    "leases_df = pd.read_csv(\"../data/cleaned_leases.csv\")\n",
    "\n",
    "# Filter for Texas and construction companies\n",
    "texas_construction = leases_df[(leases_df['state'] == 'TX') & (leases_df['is_construction'] == 1)]\n",
    "\n",
    "# Create a scatter plot of addresses\n",
    "fig = px.choropleth(texas_construction,\n",
    "                     locations='state',\n",
    "                     locationmode=\"USA-states\",\n",
    "                     text='address',\n",
    "                     title='Construction Company Addresses in Texas',\n",
    "                     scope=\"usa\",\n",
    "                     color=\"zip\")\n",
    "\n",
    "fig.update_geos(fitbounds=\"locations\", visible=False)\n",
    "fig.show()"
   ]
  },
  {
   "cell_type": "code",
   "execution_count": 40,
   "id": "150f4f2b",
   "metadata": {},
   "outputs": [
    {
     "name": "stderr",
     "output_type": "stream",
     "text": [
      "/var/folders/xj/5m3dhh594lb1gv6r95wws5nm0000gn/T/ipykernel_52966/3745013520.py:16: DeprecationWarning:\n",
      "\n",
      "*choropleth_mapbox* is deprecated! Use *choropleth_map* instead. Learn more at: https://plotly.com/python/mapbox-to-maplibre/\n",
      "\n"
     ]
    },
    {
     "ename": "ValueError",
     "evalue": "Value of 'color' is not the name of a column in 'data_frame'. Expected one of ['FIPS', 'CREATE_USE', 'CMNT', 'geometry'] but received: value",
     "output_type": "error",
     "traceback": [
      "\u001b[31m---------------------------------------------------------------------------\u001b[39m",
      "\u001b[31mValueError\u001b[39m                                Traceback (most recent call last)",
      "\u001b[36mCell\u001b[39m\u001b[36m \u001b[39m\u001b[32mIn[40]\u001b[39m\u001b[32m, line 16\u001b[39m\n\u001b[32m     13\u001b[39m texas = gpd.read_file(\u001b[33m'\u001b[39m\u001b[33mTexas_State_Boundary/State_Boundary.shp\u001b[39m\u001b[33m'\u001b[39m)\n\u001b[32m     15\u001b[39m \u001b[38;5;66;03m# Create the base map of Texas\u001b[39;00m\n\u001b[32m---> \u001b[39m\u001b[32m16\u001b[39m fig = \u001b[43mpx\u001b[49m\u001b[43m.\u001b[49m\u001b[43mchoropleth_mapbox\u001b[49m\u001b[43m(\u001b[49m\n\u001b[32m     17\u001b[39m \u001b[43m    \u001b[49m\u001b[43mtexas\u001b[49m\u001b[43m,\u001b[49m\n\u001b[32m     18\u001b[39m \u001b[43m    \u001b[49m\u001b[43mgeojson\u001b[49m\u001b[43m=\u001b[49m\u001b[43mtexas\u001b[49m\u001b[43m.\u001b[49m\u001b[43mgeometry\u001b[49m\u001b[43m,\u001b[49m\n\u001b[32m     19\u001b[39m \u001b[43m    \u001b[49m\u001b[43mlocations\u001b[49m\u001b[43m=\u001b[49m\u001b[43mtexas\u001b[49m\u001b[43m.\u001b[49m\u001b[43mindex\u001b[49m\u001b[43m,\u001b[49m\n\u001b[32m     20\u001b[39m \u001b[43m    \u001b[49m\u001b[43mcolor\u001b[49m\u001b[43m=\u001b[49m\u001b[33;43m'\u001b[39;49m\u001b[33;43mvalue\u001b[39;49m\u001b[33;43m'\u001b[39;49m\u001b[43m,\u001b[49m\u001b[43m  \u001b[49m\u001b[38;5;66;43;03m# You can use a column from the shapefile if needed\u001b[39;49;00m\n\u001b[32m     21\u001b[39m \u001b[43m    \u001b[49m\u001b[43mcolor_continuous_scale\u001b[49m\u001b[43m=\u001b[49m\u001b[33;43m'\u001b[39;49m\u001b[33;43mViridis_r\u001b[39;49m\u001b[33;43m'\u001b[39;49m\u001b[43m,\u001b[49m\n\u001b[32m     22\u001b[39m \u001b[43m    \u001b[49m\u001b[43mmapbox_style\u001b[49m\u001b[43m=\u001b[49m\u001b[33;43m'\u001b[39;49m\u001b[33;43mcarto-positron\u001b[39;49m\u001b[33;43m'\u001b[39;49m\u001b[43m,\u001b[49m\n\u001b[32m     23\u001b[39m \u001b[43m    \u001b[49m\u001b[43mzoom\u001b[49m\u001b[43m=\u001b[49m\u001b[32;43m5\u001b[39;49m\u001b[43m,\u001b[49m\n\u001b[32m     24\u001b[39m \u001b[43m    \u001b[49m\u001b[43mcenter\u001b[49m\u001b[43m=\u001b[49m\u001b[43m{\u001b[49m\u001b[33;43m'\u001b[39;49m\u001b[33;43mlat\u001b[39;49m\u001b[33;43m'\u001b[39;49m\u001b[43m:\u001b[49m\u001b[43m \u001b[49m\u001b[32;43m31.9686\u001b[39;49m\u001b[43m,\u001b[49m\u001b[43m \u001b[49m\u001b[33;43m'\u001b[39;49m\u001b[33;43mlon\u001b[39;49m\u001b[33;43m'\u001b[39;49m\u001b[43m:\u001b[49m\u001b[43m \u001b[49m\u001b[43m-\u001b[49m\u001b[32;43m99.9018\u001b[39;49m\u001b[43m}\u001b[49m\u001b[43m,\u001b[49m\n\u001b[32m     25\u001b[39m \u001b[43m    \u001b[49m\u001b[43mopacity\u001b[49m\u001b[43m=\u001b[49m\u001b[32;43m0.5\u001b[39;49m\u001b[43m,\u001b[49m\n\u001b[32m     26\u001b[39m \u001b[43m    \u001b[49m\u001b[43mlabels\u001b[49m\u001b[43m=\u001b[49m\u001b[43m{\u001b[49m\u001b[33;43m'\u001b[39;49m\u001b[33;43mvalue\u001b[39;49m\u001b[33;43m'\u001b[39;49m\u001b[43m:\u001b[49m\u001b[43m \u001b[49m\u001b[33;43m'\u001b[39;49m\u001b[33;43mValue\u001b[39;49m\u001b[33;43m'\u001b[39;49m\u001b[43m}\u001b[49m\n\u001b[32m     27\u001b[39m \u001b[43m)\u001b[49m\n\u001b[32m     29\u001b[39m \u001b[38;5;66;03m# Add the city markers\u001b[39;00m\n\u001b[32m     30\u001b[39m fig.add_scattermapbox(\n\u001b[32m     31\u001b[39m     lat=df[\u001b[33m'\u001b[39m\u001b[33mlatitude\u001b[39m\u001b[33m'\u001b[39m],\n\u001b[32m     32\u001b[39m     lon=df[\u001b[33m'\u001b[39m\u001b[33mlongitude\u001b[39m\u001b[33m'\u001b[39m],\n\u001b[32m   (...)\u001b[39m\u001b[32m     36\u001b[39m     hoverinfo=\u001b[33m'\u001b[39m\u001b[33mtext\u001b[39m\u001b[33m'\u001b[39m\n\u001b[32m     37\u001b[39m )\n",
      "\u001b[36mFile \u001b[39m\u001b[32m~/Projects/DF/venv/lib/python3.12/site-packages/plotly/express/_chart_types.py:1479\u001b[39m, in \u001b[36mchoropleth_mapbox\u001b[39m\u001b[34m(data_frame, geojson, featureidkey, locations, color, hover_name, hover_data, custom_data, animation_frame, animation_group, category_orders, labels, color_discrete_sequence, color_discrete_map, color_continuous_scale, range_color, color_continuous_midpoint, opacity, zoom, center, mapbox_style, title, subtitle, template, width, height)\u001b[39m\n\u001b[32m   1466\u001b[39m \u001b[38;5;250m\u001b[39m\u001b[33;03m\"\"\"\u001b[39;00m\n\u001b[32m   1467\u001b[39m \u001b[33;03m*choropleth_mapbox* is deprecated! Use *choropleth_map* instead.\u001b[39;00m\n\u001b[32m   1468\u001b[39m \u001b[33;03mLearn more at: https://plotly.com/python/mapbox-to-maplibre/\u001b[39;00m\n\u001b[32m   1469\u001b[39m \u001b[33;03mIn a Mapbox choropleth map, each row of `data_frame` is represented by a\u001b[39;00m\n\u001b[32m   1470\u001b[39m \u001b[33;03mcolored region on a Mapbox map.\u001b[39;00m\n\u001b[32m   1471\u001b[39m \u001b[33;03m\"\"\"\u001b[39;00m\n\u001b[32m   1472\u001b[39m warn(\n\u001b[32m   1473\u001b[39m     \u001b[33m\"\u001b[39m\u001b[33m*choropleth_mapbox* is deprecated!\u001b[39m\u001b[33m\"\u001b[39m\n\u001b[32m   1474\u001b[39m     + \u001b[33m\"\u001b[39m\u001b[33m Use *choropleth_map* instead.\u001b[39m\u001b[33m\"\u001b[39m\n\u001b[32m   (...)\u001b[39m\u001b[32m   1477\u001b[39m     category=\u001b[38;5;167;01mDeprecationWarning\u001b[39;00m,\n\u001b[32m   1478\u001b[39m )\n\u001b[32m-> \u001b[39m\u001b[32m1479\u001b[39m \u001b[38;5;28;01mreturn\u001b[39;00m \u001b[43mmake_figure\u001b[49m\u001b[43m(\u001b[49m\u001b[43margs\u001b[49m\u001b[43m=\u001b[49m\u001b[38;5;28;43mlocals\u001b[39;49m\u001b[43m(\u001b[49m\u001b[43m)\u001b[49m\u001b[43m,\u001b[49m\u001b[43m \u001b[49m\u001b[43mconstructor\u001b[49m\u001b[43m=\u001b[49m\u001b[43mgo\u001b[49m\u001b[43m.\u001b[49m\u001b[43mChoroplethmapbox\u001b[49m\u001b[43m)\u001b[49m\n",
      "\u001b[36mFile \u001b[39m\u001b[32m~/Projects/DF/venv/lib/python3.12/site-packages/plotly/express/_core.py:2479\u001b[39m, in \u001b[36mmake_figure\u001b[39m\u001b[34m(args, constructor, trace_patch, layout_patch)\u001b[39m\n\u001b[32m   2476\u001b[39m layout_patch = layout_patch \u001b[38;5;129;01mor\u001b[39;00m {}\n\u001b[32m   2477\u001b[39m apply_default_cascade(args)\n\u001b[32m-> \u001b[39m\u001b[32m2479\u001b[39m args = \u001b[43mbuild_dataframe\u001b[49m\u001b[43m(\u001b[49m\u001b[43margs\u001b[49m\u001b[43m,\u001b[49m\u001b[43m \u001b[49m\u001b[43mconstructor\u001b[49m\u001b[43m)\u001b[49m\n\u001b[32m   2480\u001b[39m \u001b[38;5;28;01mif\u001b[39;00m constructor \u001b[38;5;129;01min\u001b[39;00m [go.Treemap, go.Sunburst, go.Icicle] \u001b[38;5;129;01mand\u001b[39;00m args[\u001b[33m\"\u001b[39m\u001b[33mpath\u001b[39m\u001b[33m\"\u001b[39m] \u001b[38;5;129;01mis\u001b[39;00m \u001b[38;5;129;01mnot\u001b[39;00m \u001b[38;5;28;01mNone\u001b[39;00m:\n\u001b[32m   2481\u001b[39m     args = process_dataframe_hierarchy(args)\n",
      "\u001b[36mFile \u001b[39m\u001b[32m~/Projects/DF/venv/lib/python3.12/site-packages/plotly/express/_core.py:1727\u001b[39m, in \u001b[36mbuild_dataframe\u001b[39m\u001b[34m(args, constructor)\u001b[39m\n\u001b[32m   1724\u001b[39m     args[\u001b[33m\"\u001b[39m\u001b[33mcolor\u001b[39m\u001b[33m\"\u001b[39m] = \u001b[38;5;28;01mNone\u001b[39;00m\n\u001b[32m   1725\u001b[39m \u001b[38;5;66;03m# now that things have been prepped, we do the systematic rewriting of `args`\u001b[39;00m\n\u001b[32m-> \u001b[39m\u001b[32m1727\u001b[39m df_output, wide_id_vars = \u001b[43mprocess_args_into_dataframe\u001b[49m\u001b[43m(\u001b[49m\n\u001b[32m   1728\u001b[39m \u001b[43m    \u001b[49m\u001b[43margs\u001b[49m\u001b[43m,\u001b[49m\n\u001b[32m   1729\u001b[39m \u001b[43m    \u001b[49m\u001b[43mwide_mode\u001b[49m\u001b[43m,\u001b[49m\n\u001b[32m   1730\u001b[39m \u001b[43m    \u001b[49m\u001b[43mvar_name\u001b[49m\u001b[43m,\u001b[49m\n\u001b[32m   1731\u001b[39m \u001b[43m    \u001b[49m\u001b[43mvalue_name\u001b[49m\u001b[43m,\u001b[49m\n\u001b[32m   1732\u001b[39m \u001b[43m    \u001b[49m\u001b[43mis_pd_like\u001b[49m\u001b[43m,\u001b[49m\n\u001b[32m   1733\u001b[39m \u001b[43m    \u001b[49m\u001b[43mnative_namespace\u001b[49m\u001b[43m,\u001b[49m\n\u001b[32m   1734\u001b[39m \u001b[43m\u001b[49m\u001b[43m)\u001b[49m\n\u001b[32m   1735\u001b[39m df_output: nw.DataFrame\n\u001b[32m   1736\u001b[39m \u001b[38;5;66;03m# now that `df_output` exists and `args` contains only references, we complete\u001b[39;00m\n\u001b[32m   1737\u001b[39m \u001b[38;5;66;03m# the special-case and wide-mode handling by further rewriting args and/or mutating\u001b[39;00m\n\u001b[32m   1738\u001b[39m \u001b[38;5;66;03m# df_output\u001b[39;00m\n",
      "\u001b[36mFile \u001b[39m\u001b[32m~/Projects/DF/venv/lib/python3.12/site-packages/plotly/express/_core.py:1328\u001b[39m, in \u001b[36mprocess_args_into_dataframe\u001b[39m\u001b[34m(args, wide_mode, var_name, value_name, is_pd_like, native_namespace)\u001b[39m\n\u001b[32m   1326\u001b[39m         \u001b[38;5;28;01mif\u001b[39;00m argument == \u001b[33m\"\u001b[39m\u001b[33mindex\u001b[39m\u001b[33m\"\u001b[39m:\n\u001b[32m   1327\u001b[39m             err_msg += \u001b[33m\"\u001b[39m\u001b[38;5;130;01m\\n\u001b[39;00m\u001b[33m To use the index, pass it in directly as `df.index`.\u001b[39m\u001b[33m\"\u001b[39m\n\u001b[32m-> \u001b[39m\u001b[32m1328\u001b[39m         \u001b[38;5;28;01mraise\u001b[39;00m \u001b[38;5;167;01mValueError\u001b[39;00m(err_msg)\n\u001b[32m   1329\u001b[39m \u001b[38;5;28;01melif\u001b[39;00m length \u001b[38;5;129;01mand\u001b[39;00m (actual_len := \u001b[38;5;28mlen\u001b[39m(df_input)) != length:\n\u001b[32m   1330\u001b[39m     \u001b[38;5;28;01mraise\u001b[39;00m \u001b[38;5;167;01mValueError\u001b[39;00m(\n\u001b[32m   1331\u001b[39m         \u001b[33m\"\u001b[39m\u001b[33mAll arguments should have the same length. \u001b[39m\u001b[33m\"\u001b[39m\n\u001b[32m   1332\u001b[39m         \u001b[33m\"\u001b[39m\u001b[33mThe length of column argument `df[\u001b[39m\u001b[38;5;132;01m%s\u001b[39;00m\u001b[33m]` is \u001b[39m\u001b[38;5;132;01m%d\u001b[39;00m\u001b[33m, whereas the \u001b[39m\u001b[33m\"\u001b[39m\n\u001b[32m   (...)\u001b[39m\u001b[32m   1339\u001b[39m         )\n\u001b[32m   1340\u001b[39m     )\n",
      "\u001b[31mValueError\u001b[39m: Value of 'color' is not the name of a column in 'data_frame'. Expected one of ['FIPS', 'CREATE_USE', 'CMNT', 'geometry'] but received: value"
     ]
    }
   ],
   "source": [
    "import pandas as pd\n",
    "import plotly.express as px\n",
    "import geopandas as gpd\n",
    "\n",
    "df = pd.DataFrame({\n",
    "    'city': ['Houston', 'Dallas', 'San Antonio', 'Austin', 'Fort Worth'],\n",
    "    'population': [2325502, 1343573, 1547253, 964254, 893446],\n",
    "    'latitude': [29.7604, 32.7767, 29.4241, 30.2672, 32.7552],\n",
    "    'longitude': [-95.3698, -96.7970, -98.4936, -97.7431, -97.3308]\n",
    "})\n",
    "\n",
    "# Load the Texas shapefile\n",
    "texas = gpd.read_file('Texas_State_Boundary/State_Boundary.shp')\n",
    "\n",
    "# Create the base map of Texas\n",
    "fig = px.choropleth_mapbox(\n",
    "    texas,\n",
    "    geojson=texas.geometry,\n",
    "    locations=texas.index,\n",
    "    color='value',  # You can use a column from the shapefile if needed\n",
    "    color_continuous_scale='Viridis_r',\n",
    "    mapbox_style='carto-positron',\n",
    "    zoom=5,\n",
    "    center={'lat': 31.9686, 'lon': -99.9018},\n",
    "    opacity=0.5,\n",
    "    labels={'value': 'Value'}\n",
    ")\n",
    "\n",
    "# Add the city markers\n",
    "fig.add_scattermapbox(\n",
    "    lat=df['latitude'],\n",
    "    lon=df['longitude'],\n",
    "    mode='markers',\n",
    "    marker=dict(size=10, color='red'),\n",
    "    text=df['city'] + ': ' + df['population'].astype(str),\n",
    "    hoverinfo='text'\n",
    ")\n",
    "\n",
    "# Update layout\n",
    "fig.update_layout(\n",
    "    title_text='Population of Major Cities in Texas',\n",
    "    margin={'r': 0, 't': 50, 'l': 0, 'b': 0},\n",
    "    mapbox=dict(\n",
    "        style='carto-positron',\n",
    "        center=dict(lat=31.9686, lon=-99.9018),\n",
    "        zoom=5\n",
    "    )\n",
    ")\n",
    "\n",
    "# Show the map\n",
    "fig.show()"
   ]
  }
 ],
 "metadata": {
  "kernelspec": {
   "display_name": "venv",
   "language": "python",
   "name": "python3"
  },
  "language_info": {
   "codemirror_mode": {
    "name": "ipython",
    "version": 3
   },
   "file_extension": ".py",
   "mimetype": "text/x-python",
   "name": "python",
   "nbconvert_exporter": "python",
   "pygments_lexer": "ipython3",
   "version": "3.12.6"
  }
 },
 "nbformat": 4,
 "nbformat_minor": 5
}
