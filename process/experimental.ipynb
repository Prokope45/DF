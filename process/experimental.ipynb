{
 "cells": [
  {
   "cell_type": "code",
   "execution_count": null,
   "id": "271d5393",
   "metadata": {
    "vscode": {
     "languageId": "plaintext"
    }
   },
   "outputs": [],
   "source": [
    "from numpy import numpy\n",
    "import pandas as pd\n",
    "\n",
    "leases_df = pd.read_csv(\"data/Leases.csv\")\n",
    "\n",
    "leases_df"
   ]
  },
  {
   "cell_type": "code",
   "execution_count": null,
   "id": "48b4656d",
   "metadata": {
    "vscode": {
     "languageId": "plaintext"
    }
   },
   "outputs": [],
   "source": []
  }
 ],
 "metadata": {
  "language_info": {
   "name": "python"
  }
 },
 "nbformat": 4,
 "nbformat_minor": 5
}
